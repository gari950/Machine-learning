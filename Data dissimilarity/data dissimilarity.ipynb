from google.colab import drive
import pandas as pd
import numpy as np
drive.mount('/content/drive')
dataset= pd.read_csv('/content/drive/MyDrive/data set csp201/flats_moscow.csv')
dataset.head()
x=dataset['price']
m1=pd.DataFrame(x.head())
m2=pd.DataFrame(dataset['livesp'].head())

# Python3 program to find Minkowski distance

# import math library
from math import *
from decimal import Decimal

# Function distance between two points
# and calculate distance value to given
# root value(p is root value)
def p_root(value, root):
  
  root_value = 1 / float(root)
  return round (Decimal(value) **
      Decimal(root_value), 3)

def minkowski_distance(x, y, p_value):
  
  # pass the p_root function to calculate
  # all the value of vector parallelly
  return (p_root(sum(pow(abs(a-b), p_value)
      for a, b in zip(x, y)), p_value))

# Driver Code
vector1 = np.array(m1)
vector2 = np.array(m2)
p = 3
print("mikowski_distance using formulae:")
print(minkowski_distance(vector1, vector2, p))

 
# Python code directly using sklearn
 from sklearn.neighbors import DistanceMetric
 print("dissimilarity matrix using sklearn:")
 dist = DistanceMetric.get_metric('minkowski')
 dist.pairwise(m1)
